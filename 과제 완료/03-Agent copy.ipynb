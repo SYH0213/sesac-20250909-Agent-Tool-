{
 "cells": [
  {
   "cell_type": "markdown",
   "metadata": {},
   "source": [
    "# Agent\n",
    "\n",
    "사용자가 Agent에게 어떤 작업을 시켰을때 개발자가 만들어낸 Tool의 기능을 가지고 스스로 생각하여 필요한 Tool들을 가지고 실행하여 결과물을 냄"
   ]
  },
  {
   "cell_type": "code",
   "execution_count": 2,
   "metadata": {},
   "outputs": [
    {
     "data": {
      "text/plain": [
       "True"
      ]
     },
     "execution_count": 2,
     "metadata": {},
     "output_type": "execute_result"
    }
   ],
   "source": [
    "# API 키를 환경변수로 관리하기 위한 설정 파일\n",
    "from dotenv import load_dotenv\n",
    "\n",
    "# API 키 정보 로드\n",
    "load_dotenv()"
   ]
  },
  {
   "cell_type": "code",
   "execution_count": 1,
   "metadata": {},
   "outputs": [
    {
     "name": "stdout",
     "output_type": "stream",
     "text": [
      "LangSmith 추적을 시작합니다.\n",
      "[프로젝트명]\n",
      "CH15-Agents-practice\n"
     ]
    }
   ],
   "source": [
    "# LangSmith 추적을 설정합니다. https://smith.langchain.com\n",
    "# !pip install -qU langchain-teddynote\n",
    "from langchain_teddynote import logging\n",
    "\n",
    "# 프로젝트 이름을 입력합니다.\n",
    "logging.langsmith(\"CH15-Agents-practice\")"
   ]
  },
  {
   "cell_type": "markdown",
   "metadata": {},
   "source": [
    "### 1. 도구를 생성한다."
   ]
  },
  {
   "cell_type": "code",
   "execution_count": 3,
   "metadata": {},
   "outputs": [
    {
     "name": "stdout",
     "output_type": "stream",
     "text": [
      "도구 이름: search_news\n",
      "도구 설명: Search Google News by input keyword\n",
      "도구 이름: python_repl_tool\n",
      "도구 설명: Use this to execute python code. If you want to see the output of a value,\n",
      "    you should print it out with `print(...)`. This is visible to the user.\n"
     ]
    }
   ],
   "source": [
    "from langchain.tools import tool\n",
    "from typing import List, Dict, Annotated\n",
    "from langchain_teddynote.tools import GoogleNews\n",
    "from langchain_experimental.utilities import PythonREPL\n",
    "\n",
    "\n",
    "# 도구 생성\n",
    "@tool\n",
    "def search_news(query: str) -> List[Dict[str, str]]:\n",
    "    \"\"\"Search Google News by input keyword\"\"\"\n",
    "    news_tool = GoogleNews()\n",
    "    return news_tool.search_by_keyword(query, k=5)\n",
    "\n",
    "\n",
    "# 도구 생성\n",
    "@tool\n",
    "def python_repl_tool(\n",
    "    code: Annotated[str, \"The python code to execute to generate your chart.\"],\n",
    "):\n",
    "    \"\"\"Use this to execute python code. If you want to see the output of a value,\n",
    "    you should print it out with `print(...)`. This is visible to the user.\"\"\"\n",
    "    result = \"\"\n",
    "    try:\n",
    "        result = PythonREPL().run(code)\n",
    "    except BaseException as e:\n",
    "        print(f\"Failed to execute. Error: {repr(e)}\")\n",
    "    finally:\n",
    "        return result\n",
    "\n",
    "\n",
    "print(f\"도구 이름: {search_news.name}\")\n",
    "print(f\"도구 설명: {search_news.description}\")\n",
    "print(f\"도구 이름: {python_repl_tool.name}\")\n",
    "print(f\"도구 설명: {python_repl_tool.description}\")"
   ]
  },
  {
   "cell_type": "markdown",
   "metadata": {},
   "source": [
    "### 1.1 생성된 도구를 리스트에 담는다."
   ]
  },
  {
   "cell_type": "code",
   "execution_count": 4,
   "metadata": {},
   "outputs": [],
   "source": [
    "# tools 정의\n",
    "tools = [search_news, python_repl_tool]"
   ]
  },
  {
   "cell_type": "markdown",
   "metadata": {},
   "source": [
    "### 2. Agent 프롬프트를 생성한다.\n",
    "\n",
    "프롬프트의 내용으로는 Agent가 Tool을 사용할 수 있도록 유도하는 내용으로 한다."
   ]
  },
  {
   "cell_type": "markdown",
   "metadata": {},
   "source": [
    "(1) \"system\"\n",
    "\n",
    "시스템 지침 (역할 규정) → 모델에게 “당신은 뉴스 검색을 도와주는 어시스턴트이고, 뉴스를 찾을 때는 반드시 search_news 툴을 사용하라”라고 규칙을 주는 부분입니다.\n",
    "\n",
    "(2) \"placeholder\", \"{chat_history}\"\n",
    "\n",
    "이전 대화 기록이 들어가는 자리.\n",
    "\n",
    "에이전트가 과거 대화를 기억하고 연속적으로 대화할 수 있도록 합니다.\n",
    "\n",
    "실행 시점에 chat_history 값으로 실제 대화 로그가 채워집니다.\n",
    "\n",
    "(3) \"human\", \"{input}\"\n",
    "\n",
    "사용자가 실제로 입력하는 메시지.\n",
    "\n",
    "코드 실행할 때 {\"input\": \"닌텐도 관련 최신 뉴스 알려줘\"} 같은 값이 들어갑니다.\n",
    "\n",
    "(4) \"placeholder\", \"{agent_scratchpad}\"\n",
    "\n",
    "에이전트의 중간 사고 과정/도구 호출 기록이 들어가는 자리.\n",
    "\n",
    "예: 모델이 “이 질문은 뉴스 검색이 필요하다 → search_news 툴 실행 → 결과 확인” 같은 중간 reasoning 및 호출 기록을 남길 수 있음.\n",
    "\n",
    "Agent가 체인처럼 여러 단계를 거칠 때 반드시 필요한 부분이에요."
   ]
  },
  {
   "cell_type": "code",
   "execution_count": 6,
   "metadata": {},
   "outputs": [],
   "source": [
    "from langchain_core.prompts import ChatPromptTemplate\n",
    "\n",
    "# 프롬프트 생성\n",
    "# 프롬프트는 에이전트에게 모델이 수행할 작업을 설명하는 텍스트를 제공합니다. (도구의 이름과 역할을 입력)\n",
    "prompt = ChatPromptTemplate.from_messages(\n",
    "    [\n",
    "        (\n",
    "            \"system\",\n",
    "            \"You are a helpful assistant. \"\n",
    "            \"Make sure to use the `search_news` tool for searching keyword related news.\",\n",
    "        ),\n",
    "        (\"placeholder\", \"{chat_history}\"),\n",
    "        (\"human\", \"{input}\"),\n",
    "        # 에이전트의 중간 사고과정/도구호출 기록이 들어갈 자리\n",
    "        (\"placeholder\", \"{agent_scratchpad}\"),\n",
    "    ]\n",
    ")"
   ]
  },
  {
   "cell_type": "markdown",
   "metadata": {},
   "source": [
    "### 3. Agent를 생성한다."
   ]
  },
  {
   "cell_type": "markdown",
   "metadata": {},
   "source": [
    "의미\n",
    "\n",
    "에이전트를 만드는 방법은 여러 가지가 있는데,\n",
    "\n",
    "create_openai_functions_agent\n",
    "\n",
    "create_react_agent\n",
    "\n",
    "create_tool_calling_agent\n",
    "… 등이 있습니다.\n",
    "\n",
    "그중 create_tool_calling_agent 는 OpenAI의 함수 호출(function calling) 또는 tool calling API를 활용해서, LLM이 스스로 어떤 툴을 쓸지 선택하고 호출할 수 있게 하는 에이전트를 만들어 줍니다."
   ]
  },
  {
   "cell_type": "code",
   "execution_count": 7,
   "metadata": {},
   "outputs": [],
   "source": [
    "from langchain_openai import ChatOpenAI\n",
    "from langchain.agents import create_tool_calling_agent\n",
    "\n",
    "# LLM 정의\n",
    "llm = ChatOpenAI(model=\"gpt-4o-mini\", temperature=0)\n",
    "\n",
    "# Agent 생성\n",
    "agent = create_tool_calling_agent(llm, tools, prompt)"
   ]
  },
  {
   "cell_type": "markdown",
   "metadata": {},
   "source": [
    "### 4. Agent Executor를 생성하고 Agent모델을 연결시킨다."
   ]
  },
  {
   "cell_type": "code",
   "execution_count": null,
   "metadata": {},
   "outputs": [],
   "source": [
    "from langchain.agents import AgentExecutor\n",
    "\n",
    "# AgentExecutor 생성\n",
    "agent_executor = AgentExecutor(\n",
    "    # agent 모델 연결\n",
    "    agent=agent,\n",
    "    \n",
    "    # Tool들 연결\n",
    "    tools=tools,\n",
    "    \n",
    "    # 실행 과정을 자세히 로그로 출력할지 여부\n",
    "    verbose=True,\n",
    "    \n",
    "    # Agent가 툴을 몇 번까지 연속 호출할 수 있는지 제한.\n",
    "    # 혹시 무한루프 빠지면 10번째에 종료.\n",
    "    max_iterations=10,\n",
    "    \n",
    "    # 실행 제한 시간(초 단위). Agent가 10초 넘게 실행되면 강제 중단.\n",
    "    max_execution_time=10,\n",
    "    \n",
    "    # Agent가 도구 호출 결과를 파싱하다가 에러가 나도 프로그램이 죽지 않고 자동으로 복구(retry) 하도록 함.\n",
    "    handle_parsing_errors=True,\n",
    ")"
   ]
  },
  {
   "cell_type": "code",
   "execution_count": 10,
   "metadata": {},
   "outputs": [
    {
     "name": "stdout",
     "output_type": "stream",
     "text": [
      "\n",
      "\n",
      "\u001b[1m> Entering new AgentExecutor chain...\u001b[0m\n",
      "\u001b[32;1m\u001b[1;3m\n",
      "Invoking: `search_news` with `{'query': '닌텐도 스위치'}`\n",
      "\n",
      "\n",
      "\u001b[0m\u001b[36;1m\u001b[1;3m[{'url': 'https://news.google.com/rss/articles/CBMia0FVX3lxTE9SejdGX0dRVWRTY1ptVFhqa1g0aWJXUlNiT1hUV3NLalNBTlFjV0xOYzJKNUFhYTM2S1VCYUM3M2F4SUh5RVdoM2VGOXctcU1semtyVldXZDBmQjhpekJjeXo4XzY1M0tzRGxr?oc=5', 'content': \"'닌텐도 스위치 2' 쾌적한 휴대 위한 액세서리 모음 - 디지털포스트(PC사랑)\"}, {'url': 'https://news.google.com/rss/articles/CBMic0FVX3lxTE01c0otcl9XVlZrcGNaaWJGZXZickYyVWFXcnlsTVpkbHplcWl2Tm8wRnA1bmY4bnU3M2c3T0J2OHdXenY3YWc1a3pMcmhMSkNoUWNKeEZDTkxsVzJXNVhmTkZCeWFsYnYtaF9jdnNnV3FMR1k?oc=5', 'content': '닌텐도, 불법 개조 스위치 판매자에 승소…200만달러 배상 명령 - 디지털투데이'}, {'url': 'https://news.google.com/rss/articles/CBMiYEFVX3lxTFAzUWZkTGtELV8zWWdEa3lfcGRuTk1iWDJ1NDIxT1ZiTVlHREhVS2tEdnVmWTN5dXZkdXhXdk1hM252RVlGNHVMMURPeWNGbGFZYzJDTTV0OHZEczBsdEVxMg?oc=5', 'content': '닌텐도 불법 복제 업자에 승소…28억 원 지불 명령 내려져 - 네이트'}, {'url': 'https://news.google.com/rss/articles/CBMiQkFVX3lxTE9zWWpVaURqQTI2OTBCX1hoLUdWXy02cV9RNUU4elQtT2RoMVBqd053dmFGXzR2N0tvbzhVQWhoc0xvQQ?oc=5', 'content': '닌텐도 스위치2 리뷰, 결국은 사게 됩니다 - 디에디트'}, {'url': 'https://news.google.com/rss/articles/CBMicEFVX3lxTE1GemV3bC1lVThSM1pEQnBmSXJhYjBsSm9ZLWZuLUtTNTlaQmlVa1JQeWc1ZkZpQmJTMXJEU250VlJlUDBNejF6bzF1aXF6YU9WZ2RPNjBVOEFIdmtmcTRIOEFJdkFYbElYRC05QXhCeFI?oc=5', 'content': '「Nintendo Switch 인디 게임 세일」이 8/19~9/1 기간 동안 진행됩니다. | News | 한국닌텐도주식회사 - Nintendo'}]\u001b[0m"
     ]
    },
    {
     "name": "stderr",
     "output_type": "stream",
     "text": [
      "Python REPL can execute arbitrary code. Use with caution.\n"
     ]
    },
    {
     "name": "stdout",
     "output_type": "stream",
     "text": [
      "\u001b[32;1m\u001b[1;3m\n",
      "Invoking: `python_repl_tool` with `{'code': 'news_titles = [\\n    \"닌텐도 스위치 2\\' 쾌적한 휴대 위한 액세서리 모음 - 디지털포스트(PC사랑)\",\\n    \"닌텐도, 불법 개조 스위치 판매자에 승소…200만달러 배상 명령 - 디지털투데이\",\\n    \"닌텐도 불법 복제 업자에 승소…28억 원 지불 명령 내려져 - 네이트\",\\n    \"닌텐도 스위치2 리뷰, 결국은 사게 됩니다 - 디에디트\",\\n    \"「Nintendo Switch 인디 게임 세일」이 8/19~9/1 기간 동안 진행됩니다. | News | 한국닌텐도주식회사 - Nintendo\"\\n]\\n\\n# Sort the titles in ascending order\\nsorted_titles = sorted(news_titles)\\n\\nsorted_titles'}`\n",
      "\n",
      "\n",
      "\u001b[0m\u001b[33;1m\u001b[1;3m\u001b[0m\u001b[32;1m\u001b[1;3m다음은 닌텐도 스위치에 대한 뉴스 제목을 오름차순으로 정렬한 목록입니다:\n",
      "\n",
      "1. 「Nintendo Switch 인디 게임 세일」이 8/19~9/1 기간 동안 진행됩니다. | News | 한국닌텐도주식회사 - Nintendo\n",
      "2. 닌텐도, 불법 개조 스위치 판매자에 승소…200만달러 배상 명령 - 디지털투데이\n",
      "3. 닌텐도 불법 복제 업자에 승소…28억 원 지불 명령 내려져 - 네이트\n",
      "4. 닌텐도 스위치 2' 쾌적한 휴대 위한 액세서리 모음 - 디지털포스트(PC사랑)\n",
      "5. 닌텐도 스위치2 리뷰, 결국은 사게 됩니다 - 디에디트\u001b[0m\n",
      "\n",
      "\u001b[1m> Finished chain.\u001b[0m\n",
      "Agent 실행 결과:\n",
      "다음은 닌텐도 스위치에 대한 뉴스 제목을 오름차순으로 정렬한 목록입니다:\n",
      "\n",
      "1. 「Nintendo Switch 인디 게임 세일」이 8/19~9/1 기간 동안 진행됩니다. | News | 한국닌텐도주식회사 - Nintendo\n",
      "2. 닌텐도, 불법 개조 스위치 판매자에 승소…200만달러 배상 명령 - 디지털투데이\n",
      "3. 닌텐도 불법 복제 업자에 승소…28억 원 지불 명령 내려져 - 네이트\n",
      "4. 닌텐도 스위치 2' 쾌적한 휴대 위한 액세서리 모음 - 디지털포스트(PC사랑)\n",
      "5. 닌텐도 스위치2 리뷰, 결국은 사게 됩니다 - 디에디트\n"
     ]
    }
   ],
   "source": [
    "# AgentExecutor 실행\n",
    "result = agent_executor.invoke({\"input\": \"닌텐도 스위치에 대한 뉴스를 검색해 주세요. 그 다음 나온 뉴스들의 제목을 오름차순으로 출력해주세요\"})\n",
    "\n",
    "print(\"Agent 실행 결과:\")\n",
    "print(result[\"output\"])"
   ]
  },
  {
   "cell_type": "markdown",
   "metadata": {},
   "source": [
    "### Stream 출력으로 단계별 결과 확인\n",
    "\n",
    "Stream을 사용하면 중간의 내용이 출력되며 이를 시각화하면 디버깅하기에 수월하다."
   ]
  },
  {
   "cell_type": "code",
   "execution_count": 11,
   "metadata": {},
   "outputs": [],
   "source": [
    "from langchain.agents import AgentExecutor\n",
    "\n",
    "# AgentExecutor 생성\n",
    "agent_executor = AgentExecutor(\n",
    "    agent=agent,\n",
    "    tools=tools,\n",
    "    verbose=False,\n",
    "    handle_parsing_errors=True,\n",
    ")"
   ]
  },
  {
   "cell_type": "code",
   "execution_count": 13,
   "metadata": {},
   "outputs": [
    {
     "name": "stdout",
     "output_type": "stream",
     "text": [
      "{'actions': [ToolAgentAction(tool='search_news', tool_input={'query': '닌텐도 스위치'}, log=\"\\nInvoking: `search_news` with `{'query': '닌텐도 스위치'}`\\n\\n\\n\", message_log=[AIMessageChunk(content='', additional_kwargs={'tool_calls': [{'index': 0, 'id': 'call_Kd5EucQ5XPj1EwWFCwr7uvUv', 'function': {'arguments': '{\"query\":\"닌텐도 스위치\"}', 'name': 'search_news'}, 'type': 'function'}]}, response_metadata={'finish_reason': 'tool_calls', 'model_name': 'gpt-4o-mini-2024-07-18', 'system_fingerprint': 'fp_8bda4d3a2c', 'service_tier': 'default'}, id='run--860c5d58-a6ad-4b53-884a-a0d75c92685b', tool_calls=[{'name': 'search_news', 'args': {'query': '닌텐도 스위치'}, 'id': 'call_Kd5EucQ5XPj1EwWFCwr7uvUv', 'type': 'tool_call'}], tool_call_chunks=[{'name': 'search_news', 'args': '{\"query\":\"닌텐도 스위치\"}', 'id': 'call_Kd5EucQ5XPj1EwWFCwr7uvUv', 'index': 0, 'type': 'tool_call_chunk'}])], tool_call_id='call_Kd5EucQ5XPj1EwWFCwr7uvUv')], 'messages': [AIMessageChunk(content='', additional_kwargs={'tool_calls': [{'index': 0, 'id': 'call_Kd5EucQ5XPj1EwWFCwr7uvUv', 'function': {'arguments': '{\"query\":\"닌텐도 스위치\"}', 'name': 'search_news'}, 'type': 'function'}]}, response_metadata={'finish_reason': 'tool_calls', 'model_name': 'gpt-4o-mini-2024-07-18', 'system_fingerprint': 'fp_8bda4d3a2c', 'service_tier': 'default'}, id='run--860c5d58-a6ad-4b53-884a-a0d75c92685b', tool_calls=[{'name': 'search_news', 'args': {'query': '닌텐도 스위치'}, 'id': 'call_Kd5EucQ5XPj1EwWFCwr7uvUv', 'type': 'tool_call'}], tool_call_chunks=[{'name': 'search_news', 'args': '{\"query\":\"닌텐도 스위치\"}', 'id': 'call_Kd5EucQ5XPj1EwWFCwr7uvUv', 'index': 0, 'type': 'tool_call_chunk'}])]}\n",
      "============================================================\n",
      "{'steps': [AgentStep(action=ToolAgentAction(tool='search_news', tool_input={'query': '닌텐도 스위치'}, log=\"\\nInvoking: `search_news` with `{'query': '닌텐도 스위치'}`\\n\\n\\n\", message_log=[AIMessageChunk(content='', additional_kwargs={'tool_calls': [{'index': 0, 'id': 'call_Kd5EucQ5XPj1EwWFCwr7uvUv', 'function': {'arguments': '{\"query\":\"닌텐도 스위치\"}', 'name': 'search_news'}, 'type': 'function'}]}, response_metadata={'finish_reason': 'tool_calls', 'model_name': 'gpt-4o-mini-2024-07-18', 'system_fingerprint': 'fp_8bda4d3a2c', 'service_tier': 'default'}, id='run--860c5d58-a6ad-4b53-884a-a0d75c92685b', tool_calls=[{'name': 'search_news', 'args': {'query': '닌텐도 스위치'}, 'id': 'call_Kd5EucQ5XPj1EwWFCwr7uvUv', 'type': 'tool_call'}], tool_call_chunks=[{'name': 'search_news', 'args': '{\"query\":\"닌텐도 스위치\"}', 'id': 'call_Kd5EucQ5XPj1EwWFCwr7uvUv', 'index': 0, 'type': 'tool_call_chunk'}])], tool_call_id='call_Kd5EucQ5XPj1EwWFCwr7uvUv'), observation=[{'url': 'https://news.google.com/rss/articles/CBMia0FVX3lxTE9SejdGX0dRVWRTY1ptVFhqa1g0aWJXUlNiT1hUV3NLalNBTlFjV0xOYzJKNUFhYTM2S1VCYUM3M2F4SUh5RVdoM2VGOXctcU1semtyVldXZDBmQjhpekJjeXo4XzY1M0tzRGxr?oc=5', 'content': \"'닌텐도 스위치 2' 쾌적한 휴대 위한 액세서리 모음 - 디지털포스트(PC사랑)\"}, {'url': 'https://news.google.com/rss/articles/CBMic0FVX3lxTE01c0otcl9XVlZrcGNaaWJGZXZickYyVWFXcnlsTVpkbHplcWl2Tm8wRnA1bmY4bnU3M2c3T0J2OHdXenY3YWc1a3pMcmhMSkNoUWNKeEZDTkxsVzJXNVhmTkZCeWFsYnYtaF9jdnNnV3FMR1k?oc=5', 'content': '닌텐도, 불법 개조 스위치 판매자에 승소…200만달러 배상 명령 - 디지털투데이'}, {'url': 'https://news.google.com/rss/articles/CBMiYEFVX3lxTFAzUWZkTGtELV8zWWdEa3lfcGRuTk1iWDJ1NDIxT1ZiTVlHREhVS2tEdnVmWTN5dXZkdXhXdk1hM252RVlGNHVMMURPeWNGbGFZYzJDTTV0OHZEczBsdEVxMg?oc=5', 'content': '닌텐도 불법 복제 업자에 승소…28억 원 지불 명령 내려져 - 네이트'}, {'url': 'https://news.google.com/rss/articles/CBMiQkFVX3lxTE9zWWpVaURqQTI2OTBCX1hoLUdWXy02cV9RNUU4elQtT2RoMVBqd053dmFGXzR2N0tvbzhVQWhoc0xvQQ?oc=5', 'content': '닌텐도 스위치2 리뷰, 결국은 사게 됩니다 - 디에디트'}, {'url': 'https://news.google.com/rss/articles/CBMicEFVX3lxTE1GemV3bC1lVThSM1pEQnBmSXJhYjBsSm9ZLWZuLUtTNTlaQmlVa1JQeWc1ZkZpQmJTMXJEU250VlJlUDBNejF6bzF1aXF6YU9WZ2RPNjBVOEFIdmtmcTRIOEFJdkFYbElYRC05QXhCeFI?oc=5', 'content': '「Nintendo Switch 인디 게임 세일」이 8/19~9/1 기간 동안 진행됩니다. | News | 한국닌텐도주식회사 - Nintendo'}])], 'messages': [FunctionMessage(content='[{\"url\": \"https://news.google.com/rss/articles/CBMia0FVX3lxTE9SejdGX0dRVWRTY1ptVFhqa1g0aWJXUlNiT1hUV3NLalNBTlFjV0xOYzJKNUFhYTM2S1VCYUM3M2F4SUh5RVdoM2VGOXctcU1semtyVldXZDBmQjhpekJjeXo4XzY1M0tzRGxr?oc=5\", \"content\": \"\\'닌텐도 스위치 2\\' 쾌적한 휴대 위한 액세서리 모음 - 디지털포스트(PC사랑)\"}, {\"url\": \"https://news.google.com/rss/articles/CBMic0FVX3lxTE01c0otcl9XVlZrcGNaaWJGZXZickYyVWFXcnlsTVpkbHplcWl2Tm8wRnA1bmY4bnU3M2c3T0J2OHdXenY3YWc1a3pMcmhMSkNoUWNKeEZDTkxsVzJXNVhmTkZCeWFsYnYtaF9jdnNnV3FMR1k?oc=5\", \"content\": \"닌텐도, 불법 개조 스위치 판매자에 승소…200만달러 배상 명령 - 디지털투데이\"}, {\"url\": \"https://news.google.com/rss/articles/CBMiYEFVX3lxTFAzUWZkTGtELV8zWWdEa3lfcGRuTk1iWDJ1NDIxT1ZiTVlHREhVS2tEdnVmWTN5dXZkdXhXdk1hM252RVlGNHVMMURPeWNGbGFZYzJDTTV0OHZEczBsdEVxMg?oc=5\", \"content\": \"닌텐도 불법 복제 업자에 승소…28억 원 지불 명령 내려져 - 네이트\"}, {\"url\": \"https://news.google.com/rss/articles/CBMiQkFVX3lxTE9zWWpVaURqQTI2OTBCX1hoLUdWXy02cV9RNUU4elQtT2RoMVBqd053dmFGXzR2N0tvbzhVQWhoc0xvQQ?oc=5\", \"content\": \"닌텐도 스위치2 리뷰, 결국은 사게 됩니다 - 디에디트\"}, {\"url\": \"https://news.google.com/rss/articles/CBMicEFVX3lxTE1GemV3bC1lVThSM1pEQnBmSXJhYjBsSm9ZLWZuLUtTNTlaQmlVa1JQeWc1ZkZpQmJTMXJEU250VlJlUDBNejF6bzF1aXF6YU9WZ2RPNjBVOEFIdmtmcTRIOEFJdkFYbElYRC05QXhCeFI?oc=5\", \"content\": \"「Nintendo Switch 인디 게임 세일」이 8/19~9/1 기간 동안 진행됩니다. | News | 한국닌텐도주식회사 - Nintendo\"}]', additional_kwargs={}, response_metadata={}, name='search_news')]}\n",
      "============================================================\n",
      "{'actions': [ToolAgentAction(tool='python_repl_tool', tool_input={'code': 'news_titles = [\\n    \"닌텐도 스위치 2\\' 쾌적한 휴대 위한 액세서리 모음 - 디지털포스트(PC사랑)\",\\n    \"닌텐도, 불법 개조 스위치 판매자에 승소…200만달러 배상 명령 - 디지털투데이\",\\n    \"닌텐도 불법 복제 업자에 승소…28억 원 지불 명령 내려져 - 네이트\",\\n    \"닌텐도 스위치2 리뷰, 결국은 사게 됩니다 - 디에디트\",\\n    \"「Nintendo Switch 인디 게임 세일」이 8/19~9/1 기간 동안 진행됩니다. | News | 한국닌텐도주식회사 - Nintendo\"\\n]\\n\\nsorted_titles = sorted(news_titles)\\nsorted_titles'}, log='\\nInvoking: `python_repl_tool` with `{\\'code\\': \\'news_titles = [\\\\n    \"닌텐도 스위치 2\\\\\\' 쾌적한 휴대 위한 액세서리 모음 - 디지털포스트(PC사랑)\",\\\\n    \"닌텐도, 불법 개조 스위치 판매자에 승소…200만달러 배상 명령 - 디지털투데이\",\\\\n    \"닌텐도 불법 복제 업자에 승소…28억 원 지불 명령 내려져 - 네이트\",\\\\n    \"닌텐도 스위치2 리뷰, 결국은 사게 됩니다 - 디에디트\",\\\\n    \"「Nintendo Switch 인디 게임 세일」이 8/19~9/1 기간 동안 진행됩니다. | News | 한국닌텐도주식회사 - Nintendo\"\\\\n]\\\\n\\\\nsorted_titles = sorted(news_titles)\\\\nsorted_titles\\'}`\\n\\n\\n', message_log=[AIMessageChunk(content='', additional_kwargs={'tool_calls': [{'index': 0, 'id': 'call_qMzFX4TaTOPYjl1Il5tyR2TG', 'function': {'arguments': '{\"code\":\"news_titles = [\\\\n    \\\\\"닌텐도 스위치 2\\' 쾌적한 휴대 위한 액세서리 모음 - 디지털포스트(PC사랑)\\\\\",\\\\n    \\\\\"닌텐도, 불법 개조 스위치 판매자에 승소…200만달러 배상 명령 - 디지털투데이\\\\\",\\\\n    \\\\\"닌텐도 불법 복제 업자에 승소…28억 원 지불 명령 내려져 - 네이트\\\\\",\\\\n    \\\\\"닌텐도 스위치2 리뷰, 결국은 사게 됩니다 - 디에디트\\\\\",\\\\n    \\\\\"「Nintendo Switch 인디 게임 세일」이 8/19~9/1 기간 동안 진행됩니다. | News | 한국닌텐도주식회사 - Nintendo\\\\\"\\\\n]\\\\n\\\\nsorted_titles = sorted(news_titles)\\\\nsorted_titles\"}', 'name': 'python_repl_tool'}, 'type': 'function'}]}, response_metadata={'finish_reason': 'tool_calls', 'model_name': 'gpt-4o-mini-2024-07-18', 'system_fingerprint': 'fp_8bda4d3a2c', 'service_tier': 'default'}, id='run--f1111acd-8698-45c8-91d4-529b6a785fde', tool_calls=[{'name': 'python_repl_tool', 'args': {'code': 'news_titles = [\\n    \"닌텐도 스위치 2\\' 쾌적한 휴대 위한 액세서리 모음 - 디지털포스트(PC사랑)\",\\n    \"닌텐도, 불법 개조 스위치 판매자에 승소…200만달러 배상 명령 - 디지털투데이\",\\n    \"닌텐도 불법 복제 업자에 승소…28억 원 지불 명령 내려져 - 네이트\",\\n    \"닌텐도 스위치2 리뷰, 결국은 사게 됩니다 - 디에디트\",\\n    \"「Nintendo Switch 인디 게임 세일」이 8/19~9/1 기간 동안 진행됩니다. | News | 한국닌텐도주식회사 - Nintendo\"\\n]\\n\\nsorted_titles = sorted(news_titles)\\nsorted_titles'}, 'id': 'call_qMzFX4TaTOPYjl1Il5tyR2TG', 'type': 'tool_call'}], tool_call_chunks=[{'name': 'python_repl_tool', 'args': '{\"code\":\"news_titles = [\\\\n    \\\\\"닌텐도 스위치 2\\' 쾌적한 휴대 위한 액세서리 모음 - 디지털포스트(PC사랑)\\\\\",\\\\n    \\\\\"닌텐도, 불법 개조 스위치 판매자에 승소…200만달러 배상 명령 - 디지털투데이\\\\\",\\\\n    \\\\\"닌텐도 불법 복제 업자에 승소…28억 원 지불 명령 내려져 - 네이트\\\\\",\\\\n    \\\\\"닌텐도 스위치2 리뷰, 결국은 사게 됩니다 - 디에디트\\\\\",\\\\n    \\\\\"「Nintendo Switch 인디 게임 세일」이 8/19~9/1 기간 동안 진행됩니다. | News | 한국닌텐도주식회사 - Nintendo\\\\\"\\\\n]\\\\n\\\\nsorted_titles = sorted(news_titles)\\\\nsorted_titles\"}', 'id': 'call_qMzFX4TaTOPYjl1Il5tyR2TG', 'index': 0, 'type': 'tool_call_chunk'}])], tool_call_id='call_qMzFX4TaTOPYjl1Il5tyR2TG')], 'messages': [AIMessageChunk(content='', additional_kwargs={'tool_calls': [{'index': 0, 'id': 'call_qMzFX4TaTOPYjl1Il5tyR2TG', 'function': {'arguments': '{\"code\":\"news_titles = [\\\\n    \\\\\"닌텐도 스위치 2\\' 쾌적한 휴대 위한 액세서리 모음 - 디지털포스트(PC사랑)\\\\\",\\\\n    \\\\\"닌텐도, 불법 개조 스위치 판매자에 승소…200만달러 배상 명령 - 디지털투데이\\\\\",\\\\n    \\\\\"닌텐도 불법 복제 업자에 승소…28억 원 지불 명령 내려져 - 네이트\\\\\",\\\\n    \\\\\"닌텐도 스위치2 리뷰, 결국은 사게 됩니다 - 디에디트\\\\\",\\\\n    \\\\\"「Nintendo Switch 인디 게임 세일」이 8/19~9/1 기간 동안 진행됩니다. | News | 한국닌텐도주식회사 - Nintendo\\\\\"\\\\n]\\\\n\\\\nsorted_titles = sorted(news_titles)\\\\nsorted_titles\"}', 'name': 'python_repl_tool'}, 'type': 'function'}]}, response_metadata={'finish_reason': 'tool_calls', 'model_name': 'gpt-4o-mini-2024-07-18', 'system_fingerprint': 'fp_8bda4d3a2c', 'service_tier': 'default'}, id='run--f1111acd-8698-45c8-91d4-529b6a785fde', tool_calls=[{'name': 'python_repl_tool', 'args': {'code': 'news_titles = [\\n    \"닌텐도 스위치 2\\' 쾌적한 휴대 위한 액세서리 모음 - 디지털포스트(PC사랑)\",\\n    \"닌텐도, 불법 개조 스위치 판매자에 승소…200만달러 배상 명령 - 디지털투데이\",\\n    \"닌텐도 불법 복제 업자에 승소…28억 원 지불 명령 내려져 - 네이트\",\\n    \"닌텐도 스위치2 리뷰, 결국은 사게 됩니다 - 디에디트\",\\n    \"「Nintendo Switch 인디 게임 세일」이 8/19~9/1 기간 동안 진행됩니다. | News | 한국닌텐도주식회사 - Nintendo\"\\n]\\n\\nsorted_titles = sorted(news_titles)\\nsorted_titles'}, 'id': 'call_qMzFX4TaTOPYjl1Il5tyR2TG', 'type': 'tool_call'}], tool_call_chunks=[{'name': 'python_repl_tool', 'args': '{\"code\":\"news_titles = [\\\\n    \\\\\"닌텐도 스위치 2\\' 쾌적한 휴대 위한 액세서리 모음 - 디지털포스트(PC사랑)\\\\\",\\\\n    \\\\\"닌텐도, 불법 개조 스위치 판매자에 승소…200만달러 배상 명령 - 디지털투데이\\\\\",\\\\n    \\\\\"닌텐도 불법 복제 업자에 승소…28억 원 지불 명령 내려져 - 네이트\\\\\",\\\\n    \\\\\"닌텐도 스위치2 리뷰, 결국은 사게 됩니다 - 디에디트\\\\\",\\\\n    \\\\\"「Nintendo Switch 인디 게임 세일」이 8/19~9/1 기간 동안 진행됩니다. | News | 한국닌텐도주식회사 - Nintendo\\\\\"\\\\n]\\\\n\\\\nsorted_titles = sorted(news_titles)\\\\nsorted_titles\"}', 'id': 'call_qMzFX4TaTOPYjl1Il5tyR2TG', 'index': 0, 'type': 'tool_call_chunk'}])]}\n",
      "============================================================\n",
      "{'steps': [AgentStep(action=ToolAgentAction(tool='python_repl_tool', tool_input={'code': 'news_titles = [\\n    \"닌텐도 스위치 2\\' 쾌적한 휴대 위한 액세서리 모음 - 디지털포스트(PC사랑)\",\\n    \"닌텐도, 불법 개조 스위치 판매자에 승소…200만달러 배상 명령 - 디지털투데이\",\\n    \"닌텐도 불법 복제 업자에 승소…28억 원 지불 명령 내려져 - 네이트\",\\n    \"닌텐도 스위치2 리뷰, 결국은 사게 됩니다 - 디에디트\",\\n    \"「Nintendo Switch 인디 게임 세일」이 8/19~9/1 기간 동안 진행됩니다. | News | 한국닌텐도주식회사 - Nintendo\"\\n]\\n\\nsorted_titles = sorted(news_titles)\\nsorted_titles'}, log='\\nInvoking: `python_repl_tool` with `{\\'code\\': \\'news_titles = [\\\\n    \"닌텐도 스위치 2\\\\\\' 쾌적한 휴대 위한 액세서리 모음 - 디지털포스트(PC사랑)\",\\\\n    \"닌텐도, 불법 개조 스위치 판매자에 승소…200만달러 배상 명령 - 디지털투데이\",\\\\n    \"닌텐도 불법 복제 업자에 승소…28억 원 지불 명령 내려져 - 네이트\",\\\\n    \"닌텐도 스위치2 리뷰, 결국은 사게 됩니다 - 디에디트\",\\\\n    \"「Nintendo Switch 인디 게임 세일」이 8/19~9/1 기간 동안 진행됩니다. | News | 한국닌텐도주식회사 - Nintendo\"\\\\n]\\\\n\\\\nsorted_titles = sorted(news_titles)\\\\nsorted_titles\\'}`\\n\\n\\n', message_log=[AIMessageChunk(content='', additional_kwargs={'tool_calls': [{'index': 0, 'id': 'call_qMzFX4TaTOPYjl1Il5tyR2TG', 'function': {'arguments': '{\"code\":\"news_titles = [\\\\n    \\\\\"닌텐도 스위치 2\\' 쾌적한 휴대 위한 액세서리 모음 - 디지털포스트(PC사랑)\\\\\",\\\\n    \\\\\"닌텐도, 불법 개조 스위치 판매자에 승소…200만달러 배상 명령 - 디지털투데이\\\\\",\\\\n    \\\\\"닌텐도 불법 복제 업자에 승소…28억 원 지불 명령 내려져 - 네이트\\\\\",\\\\n    \\\\\"닌텐도 스위치2 리뷰, 결국은 사게 됩니다 - 디에디트\\\\\",\\\\n    \\\\\"「Nintendo Switch 인디 게임 세일」이 8/19~9/1 기간 동안 진행됩니다. | News | 한국닌텐도주식회사 - Nintendo\\\\\"\\\\n]\\\\n\\\\nsorted_titles = sorted(news_titles)\\\\nsorted_titles\"}', 'name': 'python_repl_tool'}, 'type': 'function'}]}, response_metadata={'finish_reason': 'tool_calls', 'model_name': 'gpt-4o-mini-2024-07-18', 'system_fingerprint': 'fp_8bda4d3a2c', 'service_tier': 'default'}, id='run--f1111acd-8698-45c8-91d4-529b6a785fde', tool_calls=[{'name': 'python_repl_tool', 'args': {'code': 'news_titles = [\\n    \"닌텐도 스위치 2\\' 쾌적한 휴대 위한 액세서리 모음 - 디지털포스트(PC사랑)\",\\n    \"닌텐도, 불법 개조 스위치 판매자에 승소…200만달러 배상 명령 - 디지털투데이\",\\n    \"닌텐도 불법 복제 업자에 승소…28억 원 지불 명령 내려져 - 네이트\",\\n    \"닌텐도 스위치2 리뷰, 결국은 사게 됩니다 - 디에디트\",\\n    \"「Nintendo Switch 인디 게임 세일」이 8/19~9/1 기간 동안 진행됩니다. | News | 한국닌텐도주식회사 - Nintendo\"\\n]\\n\\nsorted_titles = sorted(news_titles)\\nsorted_titles'}, 'id': 'call_qMzFX4TaTOPYjl1Il5tyR2TG', 'type': 'tool_call'}], tool_call_chunks=[{'name': 'python_repl_tool', 'args': '{\"code\":\"news_titles = [\\\\n    \\\\\"닌텐도 스위치 2\\' 쾌적한 휴대 위한 액세서리 모음 - 디지털포스트(PC사랑)\\\\\",\\\\n    \\\\\"닌텐도, 불법 개조 스위치 판매자에 승소…200만달러 배상 명령 - 디지털투데이\\\\\",\\\\n    \\\\\"닌텐도 불법 복제 업자에 승소…28억 원 지불 명령 내려져 - 네이트\\\\\",\\\\n    \\\\\"닌텐도 스위치2 리뷰, 결국은 사게 됩니다 - 디에디트\\\\\",\\\\n    \\\\\"「Nintendo Switch 인디 게임 세일」이 8/19~9/1 기간 동안 진행됩니다. | News | 한국닌텐도주식회사 - Nintendo\\\\\"\\\\n]\\\\n\\\\nsorted_titles = sorted(news_titles)\\\\nsorted_titles\"}', 'id': 'call_qMzFX4TaTOPYjl1Il5tyR2TG', 'index': 0, 'type': 'tool_call_chunk'}])], tool_call_id='call_qMzFX4TaTOPYjl1Il5tyR2TG'), observation='')], 'messages': [FunctionMessage(content='', additional_kwargs={}, response_metadata={}, name='python_repl_tool')]}\n",
      "============================================================\n",
      "{'output': \"다음은 닌텐도 스위치에 대한 뉴스 제목을 오름차순으로 정렬한 목록입니다:\\n\\n1. 「Nintendo Switch 인디 게임 세일」이 8/19~9/1 기간 동안 진행됩니다. | News | 한국닌텐도주식회사 - Nintendo\\n2. 닌텐도, 불법 개조 스위치 판매자에 승소…200만달러 배상 명령 - 디지털투데이\\n3. 닌텐도 불법 복제 업자에 승소…28억 원 지불 명령 내려져 - 네이트\\n4. 닌텐도 스위치 2' 쾌적한 휴대 위한 액세서리 모음 - 디지털포스트(PC사랑)\\n5. 닌텐도 스위치2 리뷰, 결국은 사게 됩니다 - 디에디트\", 'messages': [AIMessage(content=\"다음은 닌텐도 스위치에 대한 뉴스 제목을 오름차순으로 정렬한 목록입니다:\\n\\n1. 「Nintendo Switch 인디 게임 세일」이 8/19~9/1 기간 동안 진행됩니다. | News | 한국닌텐도주식회사 - Nintendo\\n2. 닌텐도, 불법 개조 스위치 판매자에 승소…200만달러 배상 명령 - 디지털투데이\\n3. 닌텐도 불법 복제 업자에 승소…28억 원 지불 명령 내려져 - 네이트\\n4. 닌텐도 스위치 2' 쾌적한 휴대 위한 액세서리 모음 - 디지털포스트(PC사랑)\\n5. 닌텐도 스위치2 리뷰, 결국은 사게 됩니다 - 디에디트\", additional_kwargs={}, response_metadata={})]}\n",
      "============================================================\n"
     ]
    }
   ],
   "source": [
    "# 스트리밍 모드로 실행합니다\n",
    "result = agent_executor.stream({\"input\": \"닌텐도 스위치에 대한 뉴스를 검색해 주세요. 그 다음 나온 뉴스들의 제목을 오름차순으로 출력해주세요\"})\n",
    "\n",
    "for step in result:\n",
    "    # 중간 단계 출력\n",
    "    print(step)\n",
    "    print(\"===\" * 20)"
   ]
  },
  {
   "cell_type": "code",
   "execution_count": 19,
   "metadata": {},
   "outputs": [],
   "source": [
    "# AgentCallbacks와 AgentStreamParser를 langchain_teddynote.messages에서 가져옵니다.\n",
    "from langchain_teddynote.messages import AgentCallbacks, AgentStreamParser\n",
    "\n",
    "\n",
    "# 도구 호출 시 실행되는 콜백 함수입니다.\n",
    "def tool_callback(tool) -> None:\n",
    "    print(\"<<<<<<< 도구 호출 >>>>>>\")\n",
    "    print(f\"Tool: {tool.get('tool')}\")  # 사용된 도구의 이름을 출력합니다.\n",
    "    print(\"<<<<<<< 도구 호출 >>>>>>\")\n",
    "\n",
    "\n",
    "# 관찰 결과를 출력하는 콜백 함수입니다.\n",
    "def observation_callback(observation) -> None:\n",
    "    print(\"<<<<<<< 관찰 내용 >>>>>>\")\n",
    "    print(\n",
    "        f\"Observation: {observation.get('observation')[0]}\"\n",
    "    )  # 관찰 내용을 출력합니다.\n",
    "    print(\"<<<<<<< 관찰 내용 >>>>>>\")\n",
    "\n",
    "\n",
    "# 최종 결과를 출력하는 콜백 함수입니다.\n",
    "def result_callback(result: str) -> None:\n",
    "    print(\"<<<<<<< 최종 답변 >>>>>>\")\n",
    "    print(result)  # 최종 답변을 출력합니다.\n",
    "    print(\"<<<<<<< 최종 답변 >>>>>>\")\n",
    "\n",
    "\n",
    "# AgentCallbacks 객체를 생성하여 각 단계별 콜백 함수를 설정합니다.\n",
    "agent_callbacks = AgentCallbacks(\n",
    "    tool_callback=tool_callback,\n",
    "    observation_callback=observation_callback,\n",
    "    result_callback=result_callback,\n",
    ")\n",
    "\n",
    "# AgentStreamParser 객체를 생성하여 에이전트의 실행 과정을 파싱합니다.\n",
    "agent_stream_parser = AgentStreamParser(agent_callbacks)"
   ]
  },
  {
   "cell_type": "code",
   "execution_count": 21,
   "metadata": {},
   "outputs": [
    {
     "name": "stdout",
     "output_type": "stream",
     "text": [
      "<<<<<<< 도구 호출 >>>>>>\n",
      "Tool: search_news\n",
      "<<<<<<< 도구 호출 >>>>>>\n",
      "<<<<<<< 관찰 내용 >>>>>>\n",
      "Observation: {'url': 'https://news.google.com/rss/articles/CBMiYEFVX3lxTFBQbFlRZU5oMnZQQllRdGRUcGQzTy16REVjUWVXaW5YM1ZCTHlkLXdKWnJKVUpMazJnZVVNSlRKWVY4eE5ud3hxLXVWdzRnbUVRLXZwWnduSUFFUV9qN3RWSdIBeEFVX3lxTE1DcUQyRzIwQ2QwTkpBZ3o2RnN4QWNKSlRlMHR4R3NTSUdHSkRmM3BnSFFRcG5KUHBZSWp5MkxOM0lIel9POUplZWdsZlRPZ1I1MHNYNTNCOGxGaTZnWkk0RWswV1Bwal9TSE91VWoyeW95TDVEd3c0Zw?oc=5', 'content': \"케데헌 '골든', 빌보드 '핫100' 통산 4주 1위 - 뉴시스\"}\n",
      "<<<<<<< 관찰 내용 >>>>>>\n",
      "<<<<<<< 최종 답변 >>>>>>\n",
      "다음은 K-pop 데몬헌터스에 대한 최근 뉴스입니다:\n",
      "\n",
      "1. [케데헌 '골든', 빌보드 '핫100' 통산 4주 1위 - 뉴시스](https://news.google.com/rss/articles/CBMiYEFVX3lxTFBQbFlRZU5oMnZQQllRdGRUcGQzTy16REVjUWVXaW5YM1ZCTHlkLXdKWnJKVUpMazJnZVVNSlRKWVY4eE5ud3hxLXVWdzRnbUVRLXZwWnduSUFFUV9qN3RWSdIBeEFVX3lxTE1DcUQyRzIwQ2QwTkpBZ3o2RnN4QWNKSlRlMHR4R3NTSUdHSkRmM3BnSFFRcG5KUHBZSWp5MkxOM0lIel9POUplZWdsZlRPZ1I1MHNYNTNCOGxGaTZnWkk0RWswV1Bwal9TSE91VWoyeW95TDVEd3c0Zw?oc=5)\n",
      "\n",
      "2. [‘케이팝 데몬 헌터스’, 영국 소비까지 잡았다 - 이투데이](https://news.google.com/rss/articles/CBMiVEFVX3lxTE1YN2VjUmp0TEtQTEYwZlRYWlo3VXg3aWphZnY3VGVyQ3pXMG85bElaNFBMclJHTVU1YjBYc21wNENpd0FabS0xVDBKUEpFNHEyLVlERQ?oc=5)\n",
      "\n",
      "3. [카톡에 등장한 K팝 히어로…넷플릭스 '케이팝 데몬 헌터스'이모티콘 출시 - 네이트](https://news.google.com/rss/articles/CBMiU0FVX3lxTE9WT2Z3YXM3SjN3d19xWGUzcDVOdGdKUUhOekNDMFVYalFvLUJTQmh0SVhhWFVxbGVxTngyUFc5Q0NhYkhBUnc3Q0p1NHppNmliRzVj?oc=5)\n",
      "\n",
      "4. [정화예술대학교, ‘케이팝 데몬 헌터스’ 참여 글로벌 아티스트 samUIL LEE 특강 개최 - 씨네21](https://news.google.com/rss/articles/CBMiW0FVX3lxTE1vVVN6SUJLaEhrLUp2UGpRcVFiS2l0bVBEelR1Wld2VDhEUU45Tm8zTXFRcHp5WjFXVFd6blRwYnhjZFBoV01oeTNTSHdFOXI4Y0I0aG1zVlhzMU0?oc=5)\n",
      "\n",
      "5. [서울광장에 케데헌 팬 모여라…'서울 헌터스 페스티벌' 14일 개최 - SBS 뉴스](https://news.google.com/rss/articles/CBMiakFVX3lxTE1XUmxDei0zVmIzOEVnMTUzOF9lR2RZc01JVUlpRXZrdkZJMGZyM19NUEFyaFA2SnJZUEk5cDhicm1vakZFa3BlQ3VjWU8wcGQ1eVIxX2ZYRDdONDgtTU5sTEFTQi1RZFNNcHfSAWZBVV95cUxPR1ZpNUJlNjVNWWpESDJ5bU9fZTZiYndlSWc1VnBSSHlKVkVYTDU3cWlWcHZreTdkSF9lUWpYMTJuN3ZXbV9USDZzcGFMVmFoMURTNTdZb292cmZSa2RfREgxTXZ1cEE?oc=5)\n",
      "\n",
      "이 뉴스들은 K-pop 데몬헌터스와 관련된 다양한 소식들을 다루고 있습니다.\n",
      "<<<<<<< 최종 답변 >>>>>>\n"
     ]
    }
   ],
   "source": [
    "# 질의에 대한 답변을 스트리밍으로 출력 요청\n",
    "result = agent_executor.stream({\"input\": \"k-pop 데몬헌터스에 대한 뉴스를 검색해 주세요.\"})\n",
    "\n",
    "for step in result:\n",
    "    # 중간 단계를 parser 를 사용하여 단계별로 출력\n",
    "    agent_stream_parser.process_agent_steps(step)"
   ]
  },
  {
   "cell_type": "markdown",
   "metadata": {},
   "source": [
    "### 너무 많은 호출로 IndexError: string index out of range"
   ]
  },
  {
   "cell_type": "code",
   "execution_count": 23,
   "metadata": {},
   "outputs": [
    {
     "name": "stdout",
     "output_type": "stream",
     "text": [
      "<<<<<<< 도구 호출 >>>>>>\n",
      "Tool: search_news\n",
      "<<<<<<< 도구 호출 >>>>>>\n",
      "<<<<<<< 관찰 내용 >>>>>>\n",
      "Observation: {'url': 'https://news.google.com/rss/articles/CBMiYEFVX3lxTFBQbFlRZU5oMnZQQllRdGRUcGQzTy16REVjUWVXaW5YM1ZCTHlkLXdKWnJKVUpMazJnZVVNSlRKWVY4eE5ud3hxLXVWdzRnbUVRLXZwWnduSUFFUV9qN3RWSdIBeEFVX3lxTE1DcUQyRzIwQ2QwTkpBZ3o2RnN4QWNKSlRlMHR4R3NTSUdHSkRmM3BnSFFRcG5KUHBZSWp5MkxOM0lIel9POUplZWdsZlRPZ1I1MHNYNTNCOGxGaTZnWkk0RWswV1Bwal9TSE91VWoyeW95TDVEd3c0Zw?oc=5', 'content': \"케데헌 '골든', 빌보드 '핫100' 통산 4주 1위 - 뉴시스\"}\n",
      "<<<<<<< 관찰 내용 >>>>>>\n",
      "<<<<<<< 도구 호출 >>>>>>\n",
      "Tool: python_repl_tool\n",
      "<<<<<<< 도구 호출 >>>>>>\n",
      "<<<<<<< 관찰 내용 >>>>>>\n",
      "Observation: S\n",
      "<<<<<<< 관찰 내용 >>>>>>\n",
      "<<<<<<< 도구 호출 >>>>>>\n",
      "Tool: python_repl_tool\n",
      "<<<<<<< 도구 호출 >>>>>>\n",
      "<<<<<<< 관찰 내용 >>>>>>\n",
      "Observation: S\n",
      "<<<<<<< 관찰 내용 >>>>>>\n",
      "<<<<<<< 도구 호출 >>>>>>\n",
      "Tool: python_repl_tool\n",
      "<<<<<<< 도구 호출 >>>>>>\n",
      "<<<<<<< 관찰 내용 >>>>>>\n"
     ]
    },
    {
     "ename": "IndexError",
     "evalue": "string index out of range",
     "output_type": "error",
     "traceback": [
      "\u001b[31m---------------------------------------------------------------------------\u001b[39m",
      "\u001b[31mIndexError\u001b[39m                                Traceback (most recent call last)",
      "\u001b[36mCell\u001b[39m\u001b[36m \u001b[39m\u001b[32mIn[23]\u001b[39m\u001b[32m, line 6\u001b[39m\n\u001b[32m      2\u001b[39m result = agent_executor.stream({\u001b[33m\"\u001b[39m\u001b[33minput\u001b[39m\u001b[33m\"\u001b[39m: \u001b[33m\"\u001b[39m\u001b[33mk-pop 데몬헌터스에 대한 뉴스를 검색해 주세요. 그 후 나온 뉴스들의 제목을 내림차순으로 정렬해주세요\u001b[39m\u001b[33m\"\u001b[39m})\n\u001b[32m      4\u001b[39m \u001b[38;5;28;01mfor\u001b[39;00m step \u001b[38;5;129;01min\u001b[39;00m result:\n\u001b[32m      5\u001b[39m     \u001b[38;5;66;03m# 중간 단계를 parser 를 사용하여 단계별로 출력\u001b[39;00m\n\u001b[32m----> \u001b[39m\u001b[32m6\u001b[39m     \u001b[43magent_stream_parser\u001b[49m\u001b[43m.\u001b[49m\u001b[43mprocess_agent_steps\u001b[49m\u001b[43m(\u001b[49m\u001b[43mstep\u001b[49m\u001b[43m)\u001b[49m\n",
      "\u001b[36mFile \u001b[39m\u001b[32mc:\\Users\\SBA\\AppData\\Local\\pypoetry\\Cache\\virtualenvs\\langchain-kr-Us6BDj1P-py3.11\\Lib\\site-packages\\langchain_teddynote\\messages.py:106\u001b[39m, in \u001b[36mAgentStreamParser.process_agent_steps\u001b[39m\u001b[34m(self, step)\u001b[39m\n\u001b[32m    104\u001b[39m     \u001b[38;5;28mself\u001b[39m._process_actions(step[\u001b[33m\"\u001b[39m\u001b[33mactions\u001b[39m\u001b[33m\"\u001b[39m])\n\u001b[32m    105\u001b[39m \u001b[38;5;28;01melif\u001b[39;00m \u001b[33m\"\u001b[39m\u001b[33msteps\u001b[39m\u001b[33m\"\u001b[39m \u001b[38;5;129;01min\u001b[39;00m step:\n\u001b[32m--> \u001b[39m\u001b[32m106\u001b[39m     \u001b[38;5;28;43mself\u001b[39;49m\u001b[43m.\u001b[49m\u001b[43m_process_observations\u001b[49m\u001b[43m(\u001b[49m\u001b[43mstep\u001b[49m\u001b[43m[\u001b[49m\u001b[33;43m\"\u001b[39;49m\u001b[33;43msteps\u001b[39;49m\u001b[33;43m\"\u001b[39;49m\u001b[43m]\u001b[49m\u001b[43m)\u001b[49m\n\u001b[32m    107\u001b[39m \u001b[38;5;28;01melif\u001b[39;00m \u001b[33m\"\u001b[39m\u001b[33moutput\u001b[39m\u001b[33m\"\u001b[39m \u001b[38;5;129;01min\u001b[39;00m step:\n\u001b[32m    108\u001b[39m     \u001b[38;5;28mself\u001b[39m._process_result(step[\u001b[33m\"\u001b[39m\u001b[33moutput\u001b[39m\u001b[33m\"\u001b[39m])\n",
      "\u001b[36mFile \u001b[39m\u001b[32mc:\\Users\\SBA\\AppData\\Local\\pypoetry\\Cache\\virtualenvs\\langchain-kr-Us6BDj1P-py3.11\\Lib\\site-packages\\langchain_teddynote\\messages.py:150\u001b[39m, in \u001b[36mAgentStreamParser._process_observations\u001b[39m\u001b[34m(self, observations)\u001b[39m\n\u001b[32m    146\u001b[39m \u001b[38;5;28;01mif\u001b[39;00m \u001b[38;5;28misinstance\u001b[39m(observation, AgentStep):\n\u001b[32m    147\u001b[39m     observation_dict[\u001b[33m\"\u001b[39m\u001b[33mobservation\u001b[39m\u001b[33m\"\u001b[39m] = \u001b[38;5;28mgetattr\u001b[39m(\n\u001b[32m    148\u001b[39m         observation, \u001b[33m\"\u001b[39m\u001b[33mobservation\u001b[39m\u001b[33m\"\u001b[39m, \u001b[38;5;28;01mNone\u001b[39;00m\n\u001b[32m    149\u001b[39m     )\n\u001b[32m--> \u001b[39m\u001b[32m150\u001b[39m \u001b[38;5;28;43mself\u001b[39;49m\u001b[43m.\u001b[49m\u001b[43mcallbacks\u001b[49m\u001b[43m.\u001b[49m\u001b[43mobservation_callback\u001b[49m\u001b[43m(\u001b[49m\u001b[43mobservation_dict\u001b[49m\u001b[43m)\u001b[49m\n",
      "\u001b[36mCell\u001b[39m\u001b[36m \u001b[39m\u001b[32mIn[19]\u001b[39m\u001b[32m, line 16\u001b[39m, in \u001b[36mobservation_callback\u001b[39m\u001b[34m(observation)\u001b[39m\n\u001b[32m     13\u001b[39m \u001b[38;5;28;01mdef\u001b[39;00m\u001b[38;5;250m \u001b[39m\u001b[34mobservation_callback\u001b[39m(observation) -> \u001b[38;5;28;01mNone\u001b[39;00m:\n\u001b[32m     14\u001b[39m     \u001b[38;5;28mprint\u001b[39m(\u001b[33m\"\u001b[39m\u001b[33m<<<<<<< 관찰 내용 >>>>>>\u001b[39m\u001b[33m\"\u001b[39m)\n\u001b[32m     15\u001b[39m     \u001b[38;5;28mprint\u001b[39m(\n\u001b[32m---> \u001b[39m\u001b[32m16\u001b[39m         \u001b[33mf\u001b[39m\u001b[33m\"\u001b[39m\u001b[33mObservation: \u001b[39m\u001b[38;5;132;01m{\u001b[39;00m\u001b[43mobservation\u001b[49m\u001b[43m.\u001b[49m\u001b[43mget\u001b[49m\u001b[43m(\u001b[49m\u001b[33;43m'\u001b[39;49m\u001b[33;43mobservation\u001b[39;49m\u001b[33;43m'\u001b[39;49m\u001b[43m)\u001b[49m\u001b[43m[\u001b[49m\u001b[32;43m0\u001b[39;49m\u001b[43m]\u001b[49m\u001b[38;5;132;01m}\u001b[39;00m\u001b[33m\"\u001b[39m\n\u001b[32m     17\u001b[39m     )  \u001b[38;5;66;03m# 관찰 내용을 출력합니다.\u001b[39;00m\n\u001b[32m     18\u001b[39m     \u001b[38;5;28mprint\u001b[39m(\u001b[33m\"\u001b[39m\u001b[33m<<<<<<< 관찰 내용 >>>>>>\u001b[39m\u001b[33m\"\u001b[39m)\n",
      "\u001b[31mIndexError\u001b[39m: string index out of range"
     ]
    }
   ],
   "source": [
    "# 질의에 대한 답변을 스트리밍으로 출력 요청\n",
    "result = agent_executor.stream({\"input\": \"k-pop 데몬헌터스에 대한 뉴스를 검색해 주세요. 그 후 나온 뉴스들의 제목을 내림차순으로 정렬해주세요\"})\n",
    "\n",
    "for step in result:\n",
    "    # 중간 단계를 parser 를 사용하여 단계별로 출력\n",
    "    agent_stream_parser.process_agent_steps(step)"
   ]
  },
  {
   "cell_type": "markdown",
   "metadata": {},
   "source": [
    "### 대화 기록형 Agent"
   ]
  },
  {
   "cell_type": "code",
   "execution_count": 126,
   "metadata": {},
   "outputs": [],
   "source": [
    "from langchain_core.tools import tool\n",
    "from langchain_openai import ChatOpenAI\n",
    "from langchain.agents import create_tool_calling_agent, AgentExecutor\n",
    "from langchain_core.prompts import ChatPromptTemplate\n",
    "from langchain_community.chat_message_histories import ChatMessageHistory\n",
    "from langchain_core.runnables.history import RunnableWithMessageHistory"
   ]
  },
  {
   "cell_type": "code",
   "execution_count": null,
   "metadata": {},
   "outputs": [],
   "source": [
    "@tool\n",
    "def add(a: int, b: int) -> int:\n",
    "    \"\"\"두 수를 더하는 도구\"\"\"\n",
    "    return a + b\n",
    "\n",
    "@tool\n",
    "def subtract(a: int, b: int) -> int:\n",
    "    \"\"\"두 수를 빼는 도구\"\"\"\n",
    "    return a - b\n",
    "\n",
    "@tool\n",
    "def multiply(a: int, b: int) -> int:\n",
    "    \"\"\"두 수를 곱하는 도구\"\"\"\n",
    "    return a * b\n",
    "\n",
    "@tool\n",
    "def divide(a: int, b: int) -> float:\n",
    "    \"\"\"두 수를 나누는 도구 (0으로 나누기 불가)\"\"\"\n",
    "    if b == 0:\n",
    "        return float(\"inf\")  # 또는 에러 메시지 반환\n",
    "    return a / b\n",
    "\n",
    "tools = [add, multiply, subtract, divide]"
   ]
  },
  {
   "cell_type": "code",
   "execution_count": 148,
   "metadata": {},
   "outputs": [],
   "source": [
    "llm = ChatOpenAI(model=\"gpt-4o-mini\", temperature=0)"
   ]
  },
  {
   "cell_type": "code",
   "execution_count": null,
   "metadata": {},
   "outputs": [],
   "source": [
    "prompt = ChatPromptTemplate.from_messages(\n",
    "    [\n",
    "        (\"system\", \"너는 수학을 푸는 에이전트야. 필요할 때 add, multiply 도구를 사용해.\"),\n",
    "        (\"placeholder\", \"{chat_history}\"),\n",
    "        (\"human\", \"{input}\"),\n",
    "        (\"placeholder\", \"{agent_scratchpad}\"),\n",
    "    ]\n",
    ")\n",
    "\n",
    "agent = create_tool_calling_agent(llm, tools, prompt)\n",
    "agent_executor = AgentExecutor(agent=agent, tools=tools, verbose=True)"
   ]
  },
  {
   "cell_type": "code",
   "execution_count": 150,
   "metadata": {},
   "outputs": [],
   "source": [
    "from langchain_community.chat_message_histories import ChatMessageHistory\n",
    "from langchain_core.runnables.history import RunnableWithMessageHistory\n",
    "\n",
    "# session_id 를 저장할 딕셔너리 생성\n",
    "store = {}\n",
    "\n",
    "\n",
    "# session_id 를 기반으로 세션 기록을 가져오는 함수\n",
    "def get_session_history(session_ids):\n",
    "    if session_ids not in store:  # session_id 가 store에 없는 경우\n",
    "        # 새로운 ChatMessageHistory 객체를 생성하여 store에 저장\n",
    "        store[session_ids] = ChatMessageHistory()\n",
    "    return store[session_ids]  # 해당 세션 ID에 대한 세션 기록 반환\n",
    "\n",
    "\n",
    "# 채팅 메시지 기록이 추가된 에이전트를 생성합니다.\n",
    "agent_with_chat_history = RunnableWithMessageHistory(\n",
    "    agent_executor,\n",
    "    # 대화 session_id\n",
    "    get_session_history,\n",
    "    # 프롬프트의 질문이 입력되는 key: \"input\"\n",
    "    input_messages_key=\"input\",\n",
    "    # 프롬프트의 메시지가 입력되는 key: \"chat_history\"\n",
    "    history_messages_key=\"chat_history\",\n",
    ")"
   ]
  },
  {
   "cell_type": "code",
   "execution_count": 151,
   "metadata": {},
   "outputs": [],
   "source": [
    "# AgentCallbacks와 AgentStreamParser를 langchain_teddynote.messages에서 가져옵니다.\n",
    "from langchain_teddynote.messages import AgentCallbacks, AgentStreamParser\n",
    "\n",
    "\n",
    "# 도구 호출 시 실행되는 콜백 함수입니다.\n",
    "def tool_callback(tool) -> None:\n",
    "    print(\"<<<<<<< 도구 호출 >>>>>>\")\n",
    "    print(f\"Tool: {tool.get('tool')}\")  # 사용된 도구의 이름을 출력합니다.\n",
    "    print(\"<<<<<<< 도구 호출 >>>>>>\")\n",
    "\n",
    "\n",
    "# 최종 결과를 출력하는 콜백 함수입니다.\n",
    "def result_callback(result: str) -> None:\n",
    "    print(\"<<<<<<< 최종 답변 >>>>>>\")\n",
    "    print(result)  # 최종 답변을 출력합니다.\n",
    "    print(\"<<<<<<< 최종 답변 >>>>>>\")\n",
    "\n",
    "\n",
    "# AgentCallbacks 객체를 생성하여 각 단계별 콜백 함수를 설정합니다.\n",
    "agent_callbacks = AgentCallbacks(\n",
    "    tool_callback=tool_callback,\n",
    "    result_callback=result_callback,\n",
    ")\n",
    "\n",
    "# AgentStreamParser 객체를 생성하여 에이전트의 실행 과정을 파싱합니다.\n",
    "agent_stream_parser = AgentStreamParser(agent_callbacks)"
   ]
  },
  {
   "cell_type": "code",
   "execution_count": 152,
   "metadata": {},
   "outputs": [],
   "source": [
    "config = {\"configurable\": {\"session_id\": \"abc123\"}}"
   ]
  },
  {
   "cell_type": "code",
   "execution_count": 153,
   "metadata": {},
   "outputs": [
    {
     "name": "stdout",
     "output_type": "stream",
     "text": [
      "\n",
      "\n",
      "\u001b[1m> Entering new None chain...\u001b[0m\n",
      "<<<<<<< 도구 호출 >>>>>>\n",
      "Tool: add\n",
      "<<<<<<< 도구 호출 >>>>>>\n",
      "\u001b[32;1m\u001b[1;3m\n",
      "Invoking: `add` with `{'a': 3, 'b': 7}`\n",
      "\n",
      "\n",
      "\u001b[0m\u001b[36;1m\u001b[1;3m10\u001b[0m[관찰 내용]\n",
      "Observation: 10\n",
      "\u001b[32;1m\u001b[1;3m3 + 7은 10입니다.\u001b[0m\n",
      "\n",
      "\u001b[1m> Finished chain.\u001b[0m\n",
      "<<<<<<< 최종 답변 >>>>>>\n",
      "3 + 7은 10입니다.\n",
      "<<<<<<< 최종 답변 >>>>>>\n"
     ]
    }
   ],
   "source": [
    "# 첫 번째 질문\n",
    "result1 = agent_with_chat_history.stream({\"input\": \"3+7이 뭐야?\"}, config=config)\n",
    "for step in result1:\n",
    "    agent_stream_parser.process_agent_steps(step)"
   ]
  },
  {
   "cell_type": "code",
   "execution_count": 154,
   "metadata": {},
   "outputs": [
    {
     "name": "stdout",
     "output_type": "stream",
     "text": [
      "\n",
      "\n",
      "\u001b[1m> Entering new None chain...\u001b[0m\n",
      "<<<<<<< 도구 호출 >>>>>>\n",
      "Tool: multiply\n",
      "<<<<<<< 도구 호출 >>>>>>\n",
      "\u001b[32;1m\u001b[1;3m\n",
      "Invoking: `multiply` with `{'a': 10, 'b': 10}`\n",
      "\n",
      "\n",
      "\u001b[0m\u001b[33;1m\u001b[1;3m100\u001b[0m[관찰 내용]\n",
      "Observation: 100\n",
      "\u001b[32;1m\u001b[1;3m10에 10을 곱하면 100입니다.\u001b[0m\n",
      "\n",
      "\u001b[1m> Finished chain.\u001b[0m\n",
      "<<<<<<< 최종 답변 >>>>>>\n",
      "10에 10을 곱하면 100입니다.\n",
      "<<<<<<< 최종 답변 >>>>>>\n"
     ]
    }
   ],
   "source": [
    "# 두 번째 질문 (앞의 결과 활용)\n",
    "result2 = agent_with_chat_history.stream({\"input\": \"그다음 내가 나온 값에 10을 곱하면 뭐야?\"}, config=config)\n",
    "for step in result2:\n",
    "    agent_stream_parser.process_agent_steps(step)"
   ]
  },
  {
   "cell_type": "markdown",
   "metadata": {},
   "source": [
    "### "
   ]
  },
  {
   "cell_type": "markdown",
   "metadata": {},
   "source": [
    "### 3번째 수식에서 6/6을 해야하지만 나눗셈을 하지않고 b값도 틀린 값을 넣어서 계산 결과가 엉망이다."
   ]
  },
  {
   "cell_type": "code",
   "execution_count": 135,
   "metadata": {},
   "outputs": [
    {
     "name": "stdout",
     "output_type": "stream",
     "text": [
      "\n",
      "\n",
      "\u001b[1m> Entering new None chain...\u001b[0m\n",
      "<<<<<<< 도구 호출 >>>>>>\n",
      "Tool: add\n",
      "<<<<<<< 도구 호출 >>>>>>\n",
      "\u001b[32;1m\u001b[1;3m\n",
      "Invoking: `add` with `{'a': 1, 'b': 2}`\n",
      "\n",
      "\n",
      "\u001b[0m\u001b[36;1m\u001b[1;3m3\u001b[0m[관찰 내용]\n",
      "Observation: 3\n",
      "<<<<<<< 도구 호출 >>>>>>\n",
      "Tool: multiply\n",
      "<<<<<<< 도구 호출 >>>>>>\n",
      "\u001b[32;1m\u001b[1;3m\n",
      "Invoking: `multiply` with `{'a': 2, 'b': 3}`\n",
      "\n",
      "\n",
      "\u001b[0m\u001b[33;1m\u001b[1;3m6\u001b[0m[관찰 내용]\n",
      "Observation: 6\n",
      "<<<<<<< 도구 호출 >>>>>>\n",
      "Tool: multiply\n",
      "<<<<<<< 도구 호출 >>>>>>\n",
      "\u001b[32;1m\u001b[1;3m\n",
      "Invoking: `multiply` with `{'a': 6, 'b': 1}`\n",
      "\n",
      "\n",
      "\u001b[0m\u001b[33;1m\u001b[1;3m6\u001b[0m[관찰 내용]\n",
      "Observation: 6\n",
      "\u001b[32;1m\u001b[1;3m6 ÷ 2(1 + 2)의 계산 결과는 6입니다.\u001b[0m\n",
      "\n",
      "\u001b[1m> Finished chain.\u001b[0m\n",
      "<<<<<<< 최종 답변 >>>>>>\n",
      "6 ÷ 2(1 + 2)의 계산 결과는 6입니다.\n",
      "<<<<<<< 최종 답변 >>>>>>\n"
     ]
    }
   ],
   "source": [
    "# 세 번째 질문 (앞의 결과 활용)\n",
    "result3 = agent_with_chat_history.stream({\"input\": \"6÷2(1+2) 는 뭘까?\"}, config=config)\n",
    "for step in result3:\n",
    "    agent_stream_parser.process_agent_steps(step)"
   ]
  },
  {
   "cell_type": "code",
   "execution_count": 155,
   "metadata": {},
   "outputs": [
    {
     "name": "stdout",
     "output_type": "stream",
     "text": [
      "\n",
      "\n",
      "\u001b[1m> Entering new None chain...\u001b[0m\n",
      "<<<<<<< 도구 호출 >>>>>>\n",
      "Tool: add\n",
      "<<<<<<< 도구 호출 >>>>>>\n",
      "\u001b[32;1m\u001b[1;3m\n",
      "Invoking: `add` with `{'a': 10, 'b': 100}`\n",
      "\n",
      "\n",
      "\u001b[0m\u001b[36;1m\u001b[1;3m110\u001b[0m[관찰 내용]\n",
      "Observation: 110\n",
      "\u001b[32;1m\u001b[1;3m방금 나온 값과 그 전에 나온 값을 더하면 110입니다.\u001b[0m\n",
      "\n",
      "\u001b[1m> Finished chain.\u001b[0m\n",
      "<<<<<<< 최종 답변 >>>>>>\n",
      "방금 나온 값과 그 전에 나온 값을 더하면 110입니다.\n",
      "<<<<<<< 최종 답변 >>>>>>\n"
     ]
    }
   ],
   "source": [
    "# 네 번째 질문 (앞의 결과 활용)\n",
    "result4 = agent_with_chat_history.stream({\"input\": \"방금나온값과 그 전에 나온값을 더하면 뭘까?\"}, config=config)\n",
    "for step in result4:\n",
    "    agent_stream_parser.process_agent_steps(step)"
   ]
  },
  {
   "cell_type": "markdown",
   "metadata": {},
   "source": [
    "### 나눗셈을 하지않고 곱하기로 하려는 모습. 에러가 난다.\n",
    "\n",
    "이유를 찾음 -> 프롬프트에 필요할때 add, multiply 도구를 사용하라 했기때문에 divide tool은 사용하지 않았음\n",
    "진짜 이유를 찾음 -> tools = [add, multiply, subtract, divide] 여기서 subtract, divide를 넣지 않고 사용했었따. 바보다."
   ]
  },
  {
   "cell_type": "code",
   "execution_count": 158,
   "metadata": {},
   "outputs": [
    {
     "name": "stdout",
     "output_type": "stream",
     "text": [
      "\n",
      "\n",
      "\u001b[1m> Entering new None chain...\u001b[0m\n",
      "<<<<<<< 도구 호출 >>>>>>\n",
      "Tool: divide\n",
      "<<<<<<< 도구 호출 >>>>>>\n",
      "\u001b[32;1m\u001b[1;3m\n",
      "Invoking: `divide` with `{'a': 27, 'b': 2}`\n",
      "\n",
      "\n",
      "\u001b[0m\u001b[36;1m\u001b[1;3m13.5\u001b[0m[관찰 내용]\n",
      "Observation: 13.5\n",
      "\u001b[32;1m\u001b[1;3m방금 나온 값을 2로 나누면 13.5입니다.\u001b[0m\n",
      "\n",
      "\u001b[1m> Finished chain.\u001b[0m\n",
      "<<<<<<< 최종 답변 >>>>>>\n",
      "방금 나온 값을 2로 나누면 13.5입니다.\n",
      "<<<<<<< 최종 답변 >>>>>>\n"
     ]
    }
   ],
   "source": [
    "# 마지막 질문 (앞의 결과 활용)\n",
    "result5 = agent_with_chat_history.stream({\"input\": \"방금나온값을 2로 나누면?\"}, config=config)\n",
    "for step in result5:\n",
    "    agent_stream_parser.process_agent_steps(step)"
   ]
  },
  {
   "cell_type": "code",
   "execution_count": 159,
   "metadata": {},
   "outputs": [],
   "source": [
    "prompt = ChatPromptTemplate.from_messages(\n",
    "    [\n",
    "        (\"system\", \"너는 수학을 푸는 에이전트야. 필요할 때 add, subtract, multiply, divide 도구를 사용해. input값과 output값은 모두 정수야\"),\n",
    "        (\"placeholder\", \"{chat_history}\"),\n",
    "        (\"human\", \"{input}\"),\n",
    "        (\"placeholder\", \"{agent_scratchpad}\"),\n",
    "    ]\n",
    ")\n",
    "\n",
    "agent = create_tool_calling_agent(llm, tools, prompt)\n",
    "agent_executor = AgentExecutor(agent=agent, tools=tools, verbose=True)\n",
    "\n",
    "from langchain_community.chat_message_histories import ChatMessageHistory\n",
    "from langchain_core.runnables.history import RunnableWithMessageHistory\n",
    "\n",
    "# session_id 를 저장할 딕셔너리 생성\n",
    "store = {}\n",
    "\n",
    "\n",
    "# session_id 를 기반으로 세션 기록을 가져오는 함수\n",
    "def get_session_history(session_ids):\n",
    "    if session_ids not in store:  # session_id 가 store에 없는 경우\n",
    "        # 새로운 ChatMessageHistory 객체를 생성하여 store에 저장\n",
    "        store[session_ids] = ChatMessageHistory()\n",
    "    return store[session_ids]  # 해당 세션 ID에 대한 세션 기록 반환\n",
    "\n",
    "\n",
    "# 채팅 메시지 기록이 추가된 에이전트를 생성합니다.\n",
    "agent_with_chat_history = RunnableWithMessageHistory(\n",
    "    agent_executor,\n",
    "    # 대화 session_id\n",
    "    get_session_history,\n",
    "    # 프롬프트의 질문이 입력되는 key: \"input\"\n",
    "    input_messages_key=\"input\",\n",
    "    # 프롬프트의 메시지가 입력되는 key: \"chat_history\"\n",
    "    history_messages_key=\"chat_history\",\n",
    ")"
   ]
  },
  {
   "cell_type": "markdown",
   "metadata": {},
   "source": [
    "### ~~나눗셈을 자꾸 multiply로 사용하려고 함.~~"
   ]
  },
  {
   "cell_type": "code",
   "execution_count": 161,
   "metadata": {},
   "outputs": [],
   "source": [
    "config = {\"configurable\": {\"session_id\": \"abc123\"}}"
   ]
  },
  {
   "cell_type": "code",
   "execution_count": 162,
   "metadata": {},
   "outputs": [
    {
     "name": "stdout",
     "output_type": "stream",
     "text": [
      "\n",
      "\n",
      "\u001b[1m> Entering new None chain...\u001b[0m\n",
      "<<<<<<< 도구 호출 >>>>>>\n",
      "Tool: divide\n",
      "<<<<<<< 도구 호출 >>>>>>\n",
      "\u001b[32;1m\u001b[1;3m\n",
      "Invoking: `divide` with `{'a': 10, 'b': 5}`\n",
      "\n",
      "\n",
      "\u001b[0m\u001b[36;1m\u001b[1;3m2.0\u001b[0m[관찰 내용]\n",
      "Observation: 2.0\n",
      "\u001b[32;1m\u001b[1;3m10 나누기 5는 2입니다.\u001b[0m\n",
      "\n",
      "\u001b[1m> Finished chain.\u001b[0m\n",
      "<<<<<<< 최종 답변 >>>>>>\n",
      "10 나누기 5는 2입니다.\n",
      "<<<<<<< 최종 답변 >>>>>>\n"
     ]
    }
   ],
   "source": [
    "result1 = agent_with_chat_history.stream({\"input\": \"10나누기5는 뭐야?\"}, config=config)\n",
    "for step in result1:\n",
    "    agent_stream_parser.process_agent_steps(step)"
   ]
  },
  {
   "cell_type": "code",
   "execution_count": 163,
   "metadata": {},
   "outputs": [
    {
     "name": "stdout",
     "output_type": "stream",
     "text": [
      "\n",
      "\n",
      "\u001b[1m> Entering new None chain...\u001b[0m\n",
      "<<<<<<< 도구 호출 >>>>>>\n",
      "Tool: divide\n",
      "<<<<<<< 도구 호출 >>>>>>\n",
      "\u001b[32;1m\u001b[1;3m\n",
      "Invoking: `divide` with `{'a': 2, 'b': 2}`\n",
      "\n",
      "\n",
      "\u001b[0m\u001b[36;1m\u001b[1;3m1.0\u001b[0m[관찰 내용]\n",
      "Observation: 1.0\n",
      "\u001b[32;1m\u001b[1;3m방금 나온 값을 2로 나누면 1입니다.\u001b[0m\n",
      "\n",
      "\u001b[1m> Finished chain.\u001b[0m\n",
      "<<<<<<< 최종 답변 >>>>>>\n",
      "방금 나온 값을 2로 나누면 1입니다.\n",
      "<<<<<<< 최종 답변 >>>>>>\n"
     ]
    }
   ],
   "source": [
    "result2 = agent_with_chat_history.stream({\"input\": \"방금나온값을 2로 나눈값은 뭐야?\"}, config=config)\n",
    "for step in result2:\n",
    "    agent_stream_parser.process_agent_steps(step)"
   ]
  }
 ],
 "metadata": {
  "kernelspec": {
   "display_name": "langchain-kr-Us6BDj1P-py3.11",
   "language": "python",
   "name": "python3"
  },
  "language_info": {
   "codemirror_mode": {
    "name": "ipython",
    "version": 3
   },
   "file_extension": ".py",
   "mimetype": "text/x-python",
   "name": "python",
   "nbconvert_exporter": "python",
   "pygments_lexer": "ipython3",
   "version": "3.11.9"
  }
 },
 "nbformat": 4,
 "nbformat_minor": 2
}
